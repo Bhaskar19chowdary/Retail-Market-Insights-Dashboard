import pandas as pd
import numpy as np
import matplotlib.pyplot as plt

# Data Cleaning Function (from data_cleaning.py)
def clean_sales(sales):
    """Cleans the sales data."""
    sales = sales.copy()
    sales = sales[sales['total'] > 0]
    sales['category'] = sales['category'].fillna('Unknown')
    sales['price'] = sales['price'].fillna(sales['total'] / sales['quantity'].replace(0, np.nan))
    return sales

#Cell 1: Imports & Load
print("--- Loading Data ---")
sales_raw = pd.read_csv('../data/sales_data.csv', parse_dates=['date'])
competitors = pd.read_csv('../data/competitors.csv')
promotions = pd.read_csv('../data/promotions.csv', parse_dates=['start_date','end_date'])

print('Raw sales', sales_raw.shape)
print('Competitors', competitors.shape)
print('Promotions', promotions.shape)
print("-" * 20)

#Cell 2: Cleaning
print("--- Cleaning Data ---")
sales = clean_sales(sales_raw)

print('Cleaned sales', sales.shape)
print("\nChecking for nulls after cleaning:")
print(sales.isnull().sum())
print("\nCleaned Data Head:")
print(sales.head())
print("-" * 20)

#Cell 3: Monthly Revenue Plot
print("--- Plotting Monthly Revenue ---")
sales['month'] = sales['date'].dt.to_period('M').dt.to_timestamp()

monthly_revenue = sales.groupby('month')['total'].sum()

plt.figure(figsize=(10, 5))
monthly_revenue.plot(title='Monthly Revenue (Cleaned Data)')
plt.ylabel('Revenue')
plt.xlabel('Month')
plt.grid(True, axis='y', linestyle='--', alpha=0.7)
plt.tight_layout()
plt.show()

print("\nMonthly Revenue (Tail):")
print(monthly_revenue.tail())
print("-" * 20)

#Cell 4: KPIs
print("--- Calculating KPIs ---")
kpis = {}
total_revenue = sales['total'].sum()
total_quantity = sales['quantity'].sum()

kpis['total_revenue'] = total_revenue
kpis['avg_item_price'] = total_revenue / max(1, total_quantity)
kpis['promo_revenue_share'] = sales[sales['promotion']==1]['total'].sum() / max(1, total_revenue)

print("Calculated KPIs:")
for key, value in kpis.items():
    print(f"- {key}: {value:.2f}")

avg_price_by_promo = sales.groupby('promotion')['total'].sum() / sales.groupby('promotion')['quantity'].sum()
print("\nAverage Item Price by Promotion Status:")
print(avg_price_by_promo)
print("-" * 20)

#Cell 5: Revenue by Category Plot
print("--- Plotting Revenue by Category ---")
revenue_by_category = sales.groupby('category')['total'].sum().sort_values(ascending=False)

plt.figure(figsize=(8, 6))
revenue_by_category.plot(kind='bar', title='Revenue by Category')
plt.ylabel('Revenue')
plt.xlabel('Category')
plt.xticks(rotation=45, ha='right') # Adjust rotation for readability
plt.grid(True, axis='y', linestyle='--', alpha=0.7)
plt.tight_layout()
plt.show() 

print("\nRevenue by Category:")
print(revenue_by_category)
print("-" * 20)

# Cell 6: Avg Item Price by Promo Plot
print("--- Plotting Avg Item Price by Promotion Status ---")
plt.figure(figsize=(6, 4))
avg_price_by_promo.plot(kind='bar', title='Avg Item Price: Promo vs Non-Promo')
plt.ylabel('Average Price per Item Sold')
plt.xlabel('Promotion Status')
plt.xticks([0, 1], ['Non-Promo', 'Promo'], rotation=0)
plt.grid(True, axis='y', linestyle='--', alpha=0.7)
plt.tight_layout()
plt.show() 

print("\n--- Analysis Complete ---")